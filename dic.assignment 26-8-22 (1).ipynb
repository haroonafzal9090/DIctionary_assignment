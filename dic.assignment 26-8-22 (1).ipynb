{
 "cells": [
  {
   "cell_type": "code",
   "execution_count": 22,
   "id": "f9bbe5b2",
   "metadata": {},
   "outputs": [
    {
     "name": "stdout",
     "output_type": "stream",
     "text": [
      "Enter Student ID: 103\n",
      "Enter Student Class : (AI / CNC): ai\n",
      "Enter Student Exam : (quiz_1/quiz_2/mid/final? ) = final\n",
      "Yahya get 58 marks in class: ai final exam.\n"
     ]
    }
   ],
   "source": [
    "class1={\"name\":\"AI\"\n",
    "       }\n",
    "class2={\"name\":\"CNC\"\n",
    "       }\n",
    "students = {\n",
    "\"student_101\" : {\"name\" : \"Haroon\", \"class_ai\" : class1,\n",
    "                 \"marks_ai\" : {\"quiz_1\" : 90, \"quiz_2\" : 95, \"mid\" : 80, \"final\" : 85},\n",
    "            \"class_cnc\" : class2,\n",
    "                 \"marks_cnc\":{\"quiz_1\" : 40, \"quiz_2\" : 45, \"mid\" : 50, \"final\" : 55}},\n",
    "\"student_102\" : {\"name\" : \"Moosa\",\"class_ai\" : class1, \"marks_ai\" : {\"quiz_1\" : 90,\"quiz_2\" : 95,\"mid\" : 80,\"final\" : 85},\n",
    "            \"class_cnc\" : class2,\n",
    "                 \"marks_cnc\":{\"quiz_1\" : 41,\"quiz_2\" : 46,\"mid\" : 51,\"final\" : 56}},\n",
    "\"student_103\" : {\"name\" : \"Yahya\", \"class_ai\" : class1, \"marks_ai\":{\"quiz_1\" : 42, \"quiz_2\" : 48, \"mid\" : 53,\"final\" : 58},\n",
    "             \"class_cnc\" : class2,\n",
    "                 \"marks_cnc\":{\"quiz_1\" : 42, \"quiz_2\" : 48, \"mid\" : 53,\"final\" : 58}},\n",
    "\"student_104\" : {\"name\" : \"Azan\", \"class_ai\" : class1,\"marks_ai\":{\"quiz_1\" : 42, \"quiz_2\" : 48, \"mid\" : 53,\n",
    "            \"final\" : 58}, \n",
    "            \"class_cnc\" : class2, \"marks_cnc\":{\"quiz_1\" : 43, \"quiz_2\" : 49, \"mid\" : 54,\n",
    "            \"final\" : 59}},\n",
    "\"student_105\" : {\"name\" : \"Ammad\", \"class_ai\" : class1,\"marks_ai\":{\"quiz_1\" : 42, \"quiz_2\" : 48, \"mid\" : 53,\n",
    "            \"final\" : 58}, \n",
    "            \"class_cnc\" : class2, \"marks_cnc\":{\"quiz_1\" : 44, \"quiz_2\" : 50, \"mid\" : 55,\n",
    "            \"final\" : 60}},\n",
    "\"student_106\" : {\"name\" : \"Ayan\", \"class_ai\" : class1,\"marks_ai\":{\"quiz_1\" : 42, \"quiz_2\" : 48, \"mid\" : 53,\n",
    "            \"final\" : 58}, \n",
    "            \"class_cnc\" : class2, \"marks_cnc\":{\"quiz_1\" : 45, \"quiz_2\" : 51, \"mid\" : 56,\n",
    "            \"final\" : 61}},\n",
    "\"student_107\" : {\"name\" : \"Rohaan\", \"class_ai\" : class1,\"marks_ai\":{\"quiz_1\" : 42, \"quiz_2\" : 48, \"mid\" : 53,\n",
    "            \"final\" : 58}, \n",
    "            \"class_cnc\" : class2, \"marks_cnc\":{\"quiz_1\" : 46, \"quiz_2\" : 52, \"mid\" : 57,\n",
    "            \"final\" : 62}},\n",
    "\"student_108\" : {\"name\" : \"Mubashir\", \"class_ai\" : class1,\"marks_ai\":{\"quiz_1\" : 42, \"quiz_2\" : 48, \"mid\" : 53,\n",
    "            \"final\" : 58}, \n",
    "            \"class_cnc\" : class2, \"marks_cnc\":{\"quiz_1\" : 47, \"quiz_2\" : 53, \"mid\" : 58,\n",
    "            \"final\" : 63}},\n",
    "\"student_109\" : {\"name\" : \"Ali\", \"class_ai\" : class1,\"marks_ai\":{\"quiz_1\" : 42, \"quiz_2\" : 48, \"mid\" : 53,\n",
    "            \"final\" : 58}, \n",
    "            \"class_cnc\" : class2, \"marks_cnc\":{\"quiz_1\" : 48, \"quiz_2\" : 54, \"mid\" : 59,\n",
    "            \"final\" : 64}},\n",
    "\"student_1010\" : {\"name\" : \"Shahzaib\", \"class_AI\" : class1,\"marks_ai\":{\"quiz_1\" : 42, \"quiz_2\" : 48, \"mid\" : 53,\n",
    "            \"final\" : 58},\n",
    "            \"class_cnc\" : class2, \"marks_cnc\":{\"quiz_1\" : 49, \"quiz_2\" : 55, \"mid\" : 60,\n",
    "            \"final\" : 65}}\n",
    "}\n",
    "std_id = input (\"Enter Student ID: \")\n",
    "std_id = \"student_\" + std_id\n",
    "std_class = input (\"Enter Student Class : (AI / CNC): \")\n",
    "std_class_1 = \"marks_\" + stud_class\n",
    "std_class_2 = \"class_\" + stud_class\n",
    "std_exam = input (\"Enter Student Exam : (quiz_1/quiz_2/mid/final? ) = \")\n",
    "print (students[std_id][\"name\"] , \"get\",students[std_id][std_class_1][std_exam],\n",
    "\"marks in class:\", std_class , std_exam , \"exam.\")\n",
    "     "
   ]
  },
  {
   "cell_type": "code",
   "execution_count": null,
   "id": "cb9e4c18",
   "metadata": {},
   "outputs": [],
   "source": []
  },
  {
   "cell_type": "code",
   "execution_count": null,
   "id": "71b48e65",
   "metadata": {},
   "outputs": [],
   "source": []
  },
  {
   "cell_type": "code",
   "execution_count": null,
   "id": "9de54e79",
   "metadata": {},
   "outputs": [],
   "source": []
  }
 ],
 "metadata": {
  "kernelspec": {
   "display_name": "Python 3 (ipykernel)",
   "language": "python",
   "name": "python3"
  },
  "language_info": {
   "codemirror_mode": {
    "name": "ipython",
    "version": 3
   },
   "file_extension": ".py",
   "mimetype": "text/x-python",
   "name": "python",
   "nbconvert_exporter": "python",
   "pygments_lexer": "ipython3",
   "version": "3.9.12"
  }
 },
 "nbformat": 4,
 "nbformat_minor": 5
}
